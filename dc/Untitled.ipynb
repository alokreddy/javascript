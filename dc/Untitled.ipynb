{
 "cells": [
  {
   "cell_type": "code",
   "execution_count": 2,
   "metadata": {
    "collapsed": true
   },
   "outputs": [],
   "source": [
    "import pandas as pd"
   ]
  },
  {
   "cell_type": "code",
   "execution_count": 5,
   "metadata": {
    "collapsed": false
   },
   "outputs": [],
   "source": [
    "df = pd.read_excel(r\"Copy of Sample - Superstore Sales (Excel).xls\")"
   ]
  },
  {
   "cell_type": "code",
   "execution_count": 6,
   "metadata": {
    "collapsed": true
   },
   "outputs": [],
   "source": [
    "df.columns = df.columns.str.replace(' ', '_')"
   ]
  },
  {
   "cell_type": "code",
   "execution_count": 7,
   "metadata": {
    "collapsed": true
   },
   "outputs": [],
   "source": [
    "df.to_csv('data.csv', encoding='utf-8')"
   ]
  },
  {
   "cell_type": "code",
   "execution_count": 8,
   "metadata": {
    "collapsed": false
   },
   "outputs": [
    {
     "data": {
      "text/plain": [
       "Index([u'Row_ID', u'Order_ID', u'Order_Date', u'Order_Priority',\n",
       "       u'Order_Quantity', u'Sales', u'Discount', u'Ship_Mode', u'Profit',\n",
       "       u'Unit_Price', u'Shipping_Cost', u'Customer_Name', u'Province',\n",
       "       u'Region', u'Customer_Segment', u'Product_Category',\n",
       "       u'Product_Sub-Category', u'Product_Name', u'Product_Container',\n",
       "       u'Product_Base_Margin', u'Ship_Date'],\n",
       "      dtype='object')"
      ]
     },
     "execution_count": 8,
     "metadata": {},
     "output_type": "execute_result"
    }
   ],
   "source": [
    "df.columns"
   ]
  },
  {
   "cell_type": "code",
   "execution_count": 39,
   "metadata": {
    "collapsed": false
   },
   "outputs": [
    {
     "data": {
      "text/plain": [
       "2011-05-21    19\n",
       "2009-04-11    16\n",
       "2009-10-09    16\n",
       "2012-03-30    16\n",
       "2012-05-09    15\n",
       "2012-10-04    15\n",
       "2009-03-28    15\n",
       "2009-01-08    14\n",
       "2012-12-30    14\n",
       "2009-08-16    14\n",
       "2012-05-27    14\n",
       "2012-04-15    14\n",
       "2009-03-25    13\n",
       "2012-11-01    13\n",
       "2010-05-13    13\n",
       "2011-12-19    13\n",
       "2009-09-03    13\n",
       "2011-11-02    13\n",
       "2010-03-10    12\n",
       "2010-11-19    12\n",
       "2009-12-14    12\n",
       "2012-09-12    12\n",
       "2012-01-13    12\n",
       "2011-12-31    12\n",
       "2012-12-12    12\n",
       "2012-06-02    12\n",
       "2012-01-12    12\n",
       "2010-07-30    12\n",
       "2012-04-27    12\n",
       "2010-01-15    12\n",
       "              ..\n",
       "2012-06-24     1\n",
       "2012-09-29     1\n",
       "2010-03-31     1\n",
       "2011-08-28     1\n",
       "2012-12-25     1\n",
       "2011-09-29     1\n",
       "2011-01-03     1\n",
       "2011-05-17     1\n",
       "2012-05-16     1\n",
       "2010-08-03     1\n",
       "2011-01-18     1\n",
       "2010-12-31     1\n",
       "2009-07-20     1\n",
       "2009-11-08     1\n",
       "2012-11-24     1\n",
       "2011-10-25     1\n",
       "2010-10-05     1\n",
       "2012-07-24     1\n",
       "2012-04-09     1\n",
       "2009-01-03     1\n",
       "2011-05-16     1\n",
       "2012-05-18     1\n",
       "2010-01-29     1\n",
       "2011-06-20     1\n",
       "2010-08-13     1\n",
       "2009-12-31     1\n",
       "2012-11-18     1\n",
       "2012-07-26     1\n",
       "2011-10-28     1\n",
       "2010-07-08     1\n",
       "Name: Ship_Date, dtype: int64"
      ]
     },
     "execution_count": 39,
     "metadata": {},
     "output_type": "execute_result"
    }
   ],
   "source": [
    "df.Ship_Date.value_counts()"
   ]
  },
  {
   "cell_type": "code",
   "execution_count": 37,
   "metadata": {
    "collapsed": false
   },
   "outputs": [
    {
     "data": {
      "text/plain": [
       "Row_ID                                                                 49\n",
       "Order_ID                                                              293\n",
       "Order_Date                                            2012-10-01 00:00:00\n",
       "Order_Priority                                                       High\n",
       "Order_Quantity                                                         49\n",
       "Sales                                                               10123\n",
       "Discount                                                             0.07\n",
       "Ship_Mode                                                  Delivery Truck\n",
       "Profit                                                             457.81\n",
       "Unit_Price                                                         208.16\n",
       "Shipping_Cost                                                       68.02\n",
       "Customer_Name                                                Barry French\n",
       "Province                                                          Nunavut\n",
       "Region                                                            Nunavut\n",
       "Customer_Segment                                                 Consumer\n",
       "Product_Category                                          Office Supplies\n",
       "Product_Sub-Category                                           Appliances\n",
       "Product_Name            1.7 Cubic Foot Compact \"Cube\" Office Refrigera...\n",
       "Product_Container                                              Jumbo Drum\n",
       "Product_Base_Margin                                                  0.58\n",
       "Ship_Date                                             2012-10-02 00:00:00\n",
       "Name: 1, dtype: object"
      ]
     },
     "execution_count": 37,
     "metadata": {},
     "output_type": "execute_result"
    }
   ],
   "source": [
    "df.ix[1]#.head(5)"
   ]
  },
  {
   "cell_type": "code",
   "execution_count": null,
   "metadata": {
    "collapsed": true
   },
   "outputs": [],
   "source": []
  }
 ],
 "metadata": {
  "kernelspec": {
   "display_name": "Python 2",
   "language": "python",
   "name": "python2"
  },
  "language_info": {
   "codemirror_mode": {
    "name": "ipython",
    "version": 2
   },
   "file_extension": ".py",
   "mimetype": "text/x-python",
   "name": "python",
   "nbconvert_exporter": "python",
   "pygments_lexer": "ipython2",
   "version": "2.7.11"
  }
 },
 "nbformat": 4,
 "nbformat_minor": 0
}
